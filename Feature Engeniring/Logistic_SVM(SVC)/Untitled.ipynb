{
 "cells": [
  {
   "cell_type": "markdown",
   "id": "d88813b7-72be-4661-9663-bb0b77971958",
   "metadata": {},
   "source": [
    "Имеются данные adult.csv (см. в материалах к занятию).\n",
    "Целевой переменной является уровень дохода income (крайний правый столбец).\n",
    "Описание признаков можно найти по ссылке [link](http://www.cs.toronto.edu/~delve/data/adult/adultDetail.html)\n",
    "\n",
    "---\n",
    "\n",
    "Вам необходимо построить модели логистической регрессии и SVM, которые предсказывает уровень дохода человека.\n",
    "Вывести качество полученных моделей на тестовой выборке, используя функцию score у модели.\n",
    "Готовый ноутбук выложить на гитхаб и прислать ссылку.\n"
   ]
  },
  {
   "cell_type": "code",
   "execution_count": 1,
   "id": "113c3ce8-a91f-44d3-8b71-de350d6a96f0",
   "metadata": {},
   "outputs": [],
   "source": [
    "import pandas as pd"
   ]
  },
  {
   "cell_type": "code",
   "execution_count": 2,
   "id": "e23d96b8-532f-42f7-b04a-d090d8efd3ed",
   "metadata": {},
   "outputs": [
    {
     "data": {
      "text/html": [
       "<div>\n",
       "<style scoped>\n",
       "    .dataframe tbody tr th:only-of-type {\n",
       "        vertical-align: middle;\n",
       "    }\n",
       "\n",
       "    .dataframe tbody tr th {\n",
       "        vertical-align: top;\n",
       "    }\n",
       "\n",
       "    .dataframe thead th {\n",
       "        text-align: right;\n",
       "    }\n",
       "</style>\n",
       "<table border=\"1\" class=\"dataframe\">\n",
       "  <thead>\n",
       "    <tr style=\"text-align: right;\">\n",
       "      <th></th>\n",
       "      <th>age</th>\n",
       "      <th>workclass</th>\n",
       "      <th>fnlwgt</th>\n",
       "      <th>education</th>\n",
       "      <th>educational-num</th>\n",
       "      <th>marital-status</th>\n",
       "      <th>occupation</th>\n",
       "      <th>relationship</th>\n",
       "      <th>race</th>\n",
       "      <th>gender</th>\n",
       "      <th>capital-gain</th>\n",
       "      <th>capital-loss</th>\n",
       "      <th>hours-per-week</th>\n",
       "      <th>native-country</th>\n",
       "      <th>income</th>\n",
       "    </tr>\n",
       "  </thead>\n",
       "  <tbody>\n",
       "    <tr>\n",
       "      <th>0</th>\n",
       "      <td>25</td>\n",
       "      <td>Private</td>\n",
       "      <td>226802</td>\n",
       "      <td>11th</td>\n",
       "      <td>7</td>\n",
       "      <td>Never-married</td>\n",
       "      <td>Machine-op-inspct</td>\n",
       "      <td>Own-child</td>\n",
       "      <td>Black</td>\n",
       "      <td>Male</td>\n",
       "      <td>0</td>\n",
       "      <td>0</td>\n",
       "      <td>40</td>\n",
       "      <td>United-States</td>\n",
       "      <td>&lt;=50K</td>\n",
       "    </tr>\n",
       "    <tr>\n",
       "      <th>1</th>\n",
       "      <td>38</td>\n",
       "      <td>Private</td>\n",
       "      <td>89814</td>\n",
       "      <td>HS-grad</td>\n",
       "      <td>9</td>\n",
       "      <td>Married-civ-spouse</td>\n",
       "      <td>Farming-fishing</td>\n",
       "      <td>Husband</td>\n",
       "      <td>White</td>\n",
       "      <td>Male</td>\n",
       "      <td>0</td>\n",
       "      <td>0</td>\n",
       "      <td>50</td>\n",
       "      <td>United-States</td>\n",
       "      <td>&lt;=50K</td>\n",
       "    </tr>\n",
       "    <tr>\n",
       "      <th>2</th>\n",
       "      <td>28</td>\n",
       "      <td>Local-gov</td>\n",
       "      <td>336951</td>\n",
       "      <td>Assoc-acdm</td>\n",
       "      <td>12</td>\n",
       "      <td>Married-civ-spouse</td>\n",
       "      <td>Protective-serv</td>\n",
       "      <td>Husband</td>\n",
       "      <td>White</td>\n",
       "      <td>Male</td>\n",
       "      <td>0</td>\n",
       "      <td>0</td>\n",
       "      <td>40</td>\n",
       "      <td>United-States</td>\n",
       "      <td>&gt;50K</td>\n",
       "    </tr>\n",
       "    <tr>\n",
       "      <th>3</th>\n",
       "      <td>44</td>\n",
       "      <td>Private</td>\n",
       "      <td>160323</td>\n",
       "      <td>Some-college</td>\n",
       "      <td>10</td>\n",
       "      <td>Married-civ-spouse</td>\n",
       "      <td>Machine-op-inspct</td>\n",
       "      <td>Husband</td>\n",
       "      <td>Black</td>\n",
       "      <td>Male</td>\n",
       "      <td>7688</td>\n",
       "      <td>0</td>\n",
       "      <td>40</td>\n",
       "      <td>United-States</td>\n",
       "      <td>&gt;50K</td>\n",
       "    </tr>\n",
       "    <tr>\n",
       "      <th>4</th>\n",
       "      <td>18</td>\n",
       "      <td>NaN</td>\n",
       "      <td>103497</td>\n",
       "      <td>Some-college</td>\n",
       "      <td>10</td>\n",
       "      <td>Never-married</td>\n",
       "      <td>NaN</td>\n",
       "      <td>Own-child</td>\n",
       "      <td>White</td>\n",
       "      <td>Female</td>\n",
       "      <td>0</td>\n",
       "      <td>0</td>\n",
       "      <td>30</td>\n",
       "      <td>United-States</td>\n",
       "      <td>&lt;=50K</td>\n",
       "    </tr>\n",
       "  </tbody>\n",
       "</table>\n",
       "</div>"
      ],
      "text/plain": [
       "   age  workclass  fnlwgt     education  educational-num      marital-status  \\\n",
       "0   25    Private  226802          11th                7       Never-married   \n",
       "1   38    Private   89814       HS-grad                9  Married-civ-spouse   \n",
       "2   28  Local-gov  336951    Assoc-acdm               12  Married-civ-spouse   \n",
       "3   44    Private  160323  Some-college               10  Married-civ-spouse   \n",
       "4   18        NaN  103497  Some-college               10       Never-married   \n",
       "\n",
       "          occupation relationship   race  gender  capital-gain  capital-loss  \\\n",
       "0  Machine-op-inspct    Own-child  Black    Male             0             0   \n",
       "1    Farming-fishing      Husband  White    Male             0             0   \n",
       "2    Protective-serv      Husband  White    Male             0             0   \n",
       "3  Machine-op-inspct      Husband  Black    Male          7688             0   \n",
       "4                NaN    Own-child  White  Female             0             0   \n",
       "\n",
       "   hours-per-week native-country income  \n",
       "0              40  United-States  <=50K  \n",
       "1              50  United-States  <=50K  \n",
       "2              40  United-States   >50K  \n",
       "3              40  United-States   >50K  \n",
       "4              30  United-States  <=50K  "
      ]
     },
     "execution_count": 2,
     "metadata": {},
     "output_type": "execute_result"
    }
   ],
   "source": [
    "df = pd.read_csv('adult.csv', na_values='?')\n",
    "df.head(5)"
   ]
  },
  {
   "cell_type": "markdown",
   "id": "a511bfd5-2b1c-45d7-90f3-e9d436269520",
   "metadata": {},
   "source": [
    "Предварительно изучив датасет мы знаем, что ? - это пропущенное значение. Читаем, заменя ? на пустое значение."
   ]
  },
  {
   "cell_type": "code",
   "execution_count": 3,
   "id": "169f5267-068d-4bce-b00b-24ce531053a3",
   "metadata": {},
   "outputs": [
    {
     "name": "stdout",
     "output_type": "stream",
     "text": [
      "<class 'pandas.core.frame.DataFrame'>\n",
      "RangeIndex: 48842 entries, 0 to 48841\n",
      "Data columns (total 15 columns):\n",
      " #   Column           Non-Null Count  Dtype \n",
      "---  ------           --------------  ----- \n",
      " 0   age              48842 non-null  int64 \n",
      " 1   workclass        46043 non-null  object\n",
      " 2   fnlwgt           48842 non-null  int64 \n",
      " 3   education        48842 non-null  object\n",
      " 4   educational-num  48842 non-null  int64 \n",
      " 5   marital-status   48842 non-null  object\n",
      " 6   occupation       46033 non-null  object\n",
      " 7   relationship     48842 non-null  object\n",
      " 8   race             48842 non-null  object\n",
      " 9   gender           48842 non-null  object\n",
      " 10  capital-gain     48842 non-null  int64 \n",
      " 11  capital-loss     48842 non-null  int64 \n",
      " 12  hours-per-week   48842 non-null  int64 \n",
      " 13  native-country   47985 non-null  object\n",
      " 14  income           48842 non-null  object\n",
      "dtypes: int64(6), object(9)\n",
      "memory usage: 5.6+ MB\n"
     ]
    }
   ],
   "source": [
    "df.info()"
   ]
  },
  {
   "cell_type": "markdown",
   "id": "ee6d39dc-77ad-4006-bc1a-ed9d3b2ac883",
   "metadata": {},
   "source": [
    "**В датасете достаточно большое количество данных, мы можем выбросить строки с пропущенными значениями.**"
   ]
  },
  {
   "cell_type": "code",
   "execution_count": 4,
   "id": "7390c4a0-a3a9-4689-9226-543c90133b45",
   "metadata": {},
   "outputs": [],
   "source": [
    "rows_amount = len(df)"
   ]
  },
  {
   "cell_type": "code",
   "execution_count": 5,
   "id": "95332849-4329-49bb-a148-72ae7b9f5462",
   "metadata": {},
   "outputs": [
    {
     "name": "stdout",
     "output_type": "stream",
     "text": [
      "Dropped 3620 rows. Which is 7.41% of total rows\n"
     ]
    }
   ],
   "source": [
    "# dropping rows with None value\n",
    "df.dropna(axis=0, inplace=True)\n",
    "print(f\"Dropped {rows_amount - len(df)} rows. Which is {((rows_amount - len(df)) / rows_amount):.2%} of total rows\")"
   ]
  },
  {
   "cell_type": "markdown",
   "id": "3bdb22f8-e5f6-4c32-8ac6-b0314cc9ac82",
   "metadata": {},
   "source": [
    "Установим категориальный тип данных для дохода. В дальнейшем мы сможем использовать эту колонку без присваивания лейблов категориям"
   ]
  },
  {
   "cell_type": "code",
   "execution_count": 6,
   "id": "147f2302-b9e6-4a2e-a46f-c03d73083f9c",
   "metadata": {},
   "outputs": [],
   "source": [
    "# Пример присваивания лейблов вместо амены типа данных\n",
    "# from sklearn.preprocessing import LabelEncoder\n",
    "# LabelEncoder().fit_transform(df['income'])"
   ]
  },
  {
   "cell_type": "code",
   "execution_count": 7,
   "id": "835c4d19-7052-43cb-b852-fcbf318467ea",
   "metadata": {},
   "outputs": [],
   "source": [
    "df['income'] = df['income'].astype('category')"
   ]
  },
  {
   "cell_type": "code",
   "execution_count": 8,
   "id": "8f255297-976a-4fe3-b4e8-963dbd33fc7a",
   "metadata": {},
   "outputs": [],
   "source": [
    "X = pd.get_dummies(df.drop(\"income\", axis=1))\n",
    "y = df['income']"
   ]
  },
  {
   "cell_type": "markdown",
   "id": "7245a843-c140-4aed-91ac-56b01559d7b6",
   "metadata": {},
   "source": [
    "Разбиваем данные на тестовую и обучающую выборки"
   ]
  },
  {
   "cell_type": "code",
   "execution_count": 9,
   "id": "c9d176e5-afac-407c-865b-0a87ee84634c",
   "metadata": {},
   "outputs": [],
   "source": [
    "from sklearn.model_selection import train_test_split\n",
    "X_train, X_test, y_train, y_test = train_test_split(X,y,train_size=0.6, random_state=52)"
   ]
  },
  {
   "cell_type": "code",
   "execution_count": 10,
   "id": "7c2aec1c-73a8-47b3-b931-16acda2e4216",
   "metadata": {},
   "outputs": [],
   "source": [
    "from sklearn.linear_model import LogisticRegression\n",
    "from sklearn.svm import SVC"
   ]
  },
  {
   "cell_type": "code",
   "execution_count": 11,
   "id": "4de9cca0-7373-4a8e-85d4-5a234653221b",
   "metadata": {},
   "outputs": [],
   "source": [
    "# LR solvers - ['liblinear', 'newton-cg', 'lbfgs', 'sag', 'saga'] \n",
    "m_log = LogisticRegression()\n",
    "m_svc = SVC()"
   ]
  },
  {
   "cell_type": "code",
   "execution_count": 12,
   "id": "127c3f07-dc07-4dca-8de8-d1632f107a1a",
   "metadata": {},
   "outputs": [
    {
     "data": {
      "text/plain": [
       "SVC()"
      ]
     },
     "execution_count": 12,
     "metadata": {},
     "output_type": "execute_result"
    }
   ],
   "source": [
    "m_log.fit(X_train, y_train);\n",
    "m_svc.fit(X_train, y_train)"
   ]
  },
  {
   "cell_type": "code",
   "execution_count": 13,
   "id": "6af5625e-0c4d-4a01-b746-a03cc0ce5e9e",
   "metadata": {},
   "outputs": [
    {
     "name": "stdout",
     "output_type": "stream",
     "text": [
      "Logistic_Regression_score 0.7935\n",
      "SVC_score 0.7918\n"
     ]
    }
   ],
   "source": [
    "print(f\"Logistic_Regression_score {m_log.score(X_test, y_test):.4f}\")\n",
    "print(f\"SVC_score {m_svc.score(X_test, y_test):.4f}\")"
   ]
  },
  {
   "cell_type": "markdown",
   "id": "f0e220b8-732a-4a93-9734-8c80b9760ee1",
   "metadata": {},
   "source": [
    "Ниже пример с промежуточным сохранением результата предсказания моделями"
   ]
  },
  {
   "cell_type": "code",
   "execution_count": 14,
   "id": "0683317f-ba0d-4fb3-8d33-81c9c047b027",
   "metadata": {},
   "outputs": [],
   "source": [
    "# y_pred_log = m_log.predict(X_test)\n",
    "# y_pred_svc = m_svc.predict(X_test)"
   ]
  },
  {
   "cell_type": "code",
   "execution_count": 15,
   "id": "2e56533c-eee0-4b2c-a366-0a7bc00d2791",
   "metadata": {},
   "outputs": [],
   "source": [
    "# from sklearn.metrics import accuracy_score\n",
    "# print(accuracy_score(y_test, y_pred_log))\n",
    "# print(accuracy_score(y_test, y_pred_svc))"
   ]
  },
  {
   "cell_type": "code",
   "execution_count": null,
   "id": "e6095e69-a21a-4a48-81e4-979d47ad0354",
   "metadata": {},
   "outputs": [],
   "source": []
  }
 ],
 "metadata": {
  "kernelspec": {
   "display_name": "Python 3 (ipykernel)",
   "language": "python",
   "name": "python3"
  },
  "language_info": {
   "codemirror_mode": {
    "name": "ipython",
    "version": 3
   },
   "file_extension": ".py",
   "mimetype": "text/x-python",
   "name": "python",
   "nbconvert_exporter": "python",
   "pygments_lexer": "ipython3",
   "version": "3.8.11"
  }
 },
 "nbformat": 4,
 "nbformat_minor": 5
}
