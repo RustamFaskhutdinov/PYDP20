{
 "cells": [
  {
   "cell_type": "markdown",
   "source": [
    "# Задания для самостоятельного решения\n"
   ],
   "metadata": {}
  },
  {
   "cell_type": "markdown",
   "source": [
    "<div class=\"alert alert-info\">\n",
    "<b>Задание № 0</b>\n",
    "\n",
    "Найдите минимально необходимый объем выборки для построения интервальной оценки среднего.\n",
    "\n",
    "- желаемая точность $\\Delta$ = 3;\n",
    "- дисперсия $\\sigma^2$  = 225;\n",
    "- уровень доверия $\\beta$ = 0.95.\n",
    "    \n",
    "Ответ округлите до целого\n",
    "</div>"
   ],
   "metadata": {}
  },
  {
   "cell_type": "markdown",
   "source": [
    "$$ n = (\\frac{Z*\\sigma}{\\Delta})^2$$\n",
    "- $\\Delta$ - допустимая ошибка/погрешность, \n",
    "\n",
    "- $\\sigma$ - стандартное отклонение, \n",
    "\n",
    "- Z - квантиль нормального распределения\n"
   ],
   "metadata": {}
  },
  {
   "cell_type": "code",
   "execution_count": 1,
   "source": [
    "from scipy.stats import norm\r\n",
    "from numpy import sqrt\r\n",
    "Z = round(norm.interval(0.95)[1],2)\r\n",
    "var = 225\r\n",
    "std = sqrt(var)\r\n",
    "sem = 3\r\n",
    "\r\n",
    "n = round((Z * std / sem) ** 2)\r\n",
    "n"
   ],
   "outputs": [
    {
     "output_type": "execute_result",
     "data": {
      "text/plain": [
       "96"
      ]
     },
     "metadata": {},
     "execution_count": 1
    }
   ],
   "metadata": {}
  },
  {
   "cell_type": "markdown",
   "source": [
    "<div class=\"alert alert-info\">\n",
    "<b>Задание № 1</b>\n",
    "\n",
    "Постройте `98% доверительный интервал` для среднего значения, если известно, что\n",
    "\n",
    "- объем выборки n = 25;\n",
    "- среднее значение по выборке $\\overline x$ = 130;\n",
    "- Из достоверных источников известно стандартное отклонение $\\sigma = 15$.\n",
    "    \n",
    "В ответ укажите длину полученного доверительного интервала (разницу между правым и левым концом), окруленную до целого\n",
    "</div>"
   ],
   "metadata": {}
  },
  {
   "cell_type": "code",
   "execution_count": 2,
   "source": [
    "import numpy as np\r\n",
    "from scipy import stats\r\n",
    "\r\n",
    "conf_interval = 0.98\r\n",
    "n = 25\r\n",
    "X = 130\r\n",
    "std = 15\r\n",
    "\r\n",
    "sem = std / np.sqrt(n)\r\n",
    "less, greater =  stats.t.interval(conf_interval, df=n-1)\r\n",
    "interval = X + sem * less, X + sem * greater"
   ],
   "outputs": [],
   "metadata": {
    "tags": []
   }
  },
  {
   "cell_type": "code",
   "execution_count": 3,
   "source": [
    "L = round(interval[1] - interval[0])\r\n",
    "L"
   ],
   "outputs": [
    {
     "output_type": "execute_result",
     "data": {
      "text/plain": [
       "15"
      ]
     },
     "metadata": {},
     "execution_count": 3
    }
   ],
   "metadata": {}
  },
  {
   "cell_type": "markdown",
   "source": [
    "### 2. Вам даны две выборки роста мужчин и женщин. Докажите, используя t-Тест Стьдента, что различия между выборками незначительно, если уровень значимости равен 0.001"
   ],
   "metadata": {}
  },
  {
   "cell_type": "markdown",
   "source": [
    "<div class=\"alert alert-info\">\n",
    "<b>Задание № 2</b>\n",
    "\n",
    "Даны две выборки роста мужчин и женщин. \n",
    "- Докажите, используя `t-Тест Стьдента`, что различие между выборками незначительно, если уровень значимости равен $\\alpha$ `= 0.001`.\n",
    "- Покажите различия визуально\n",
    "</div>"
   ],
   "metadata": {}
  },
  {
   "cell_type": "code",
   "execution_count": 4,
   "source": [
    "import scipy.stats as stats\r\n",
    "np.random.seed(42) #фиксация случайности\r\n",
    "\r\n",
    "men  = stats.norm.rvs(loc=171, scale=100, size=150000)  # Выборка мужчин со средним ростом 171\r\n",
    "women = stats.norm.rvs(loc=170, scale=100, size=150000)  # Выборка женщин со средним ростом 170\r\n",
    "#В двух строчках выше генерируется две выбороки, где loc это среднее значение, а scale это дисперсия\r\n",
    "# scale -> std - стандартное отклонение !\r\n",
    "\r\n",
    "\r\n",
    "alpha = 0.001\r\n",
    "# H0 -> среднее выборки не отличаются X_men = X_women\r\n",
    "# H1 -> среднее выборки отличаются X_men != X_women\r\n",
    "\r\n",
    "t_statistic, pvalue = stats.ttest_ind(men, women)\r\n",
    "\r\n",
    "pvalue = round(pvalue, 5)\r\n",
    "\r\n",
    "if pvalue > alpha:\r\n",
    "    print(f'Статистически значимых различий между двумя выборками не обнаружено\\npvalue = {pvalue}\\nalpha = {alpha}')\r\n",
    "    print(f'{pvalue} > {alpha}')\r\n",
    "else:\r\n",
    "    print(f'Существует статистически значимые различия\\npvalue = {pvalue}\\nalpha = {alpha}')\r\n",
    "    print(f'{pvalue} < {alpha}')"
   ],
   "outputs": [
    {
     "output_type": "stream",
     "name": "stdout",
     "text": [
      "Существует статистически значимые различия\n",
      "pvalue = 0.00025\n",
      "alpha = 0.001\n",
      "0.00025 < 0.001\n"
     ]
    }
   ],
   "metadata": {}
  },
  {
   "cell_type": "code",
   "execution_count": 5,
   "source": [
    "import seaborn as sns\r\n",
    "from matplotlib import pyplot as plt\r\n",
    "\r\n",
    "plt.figure(figsize=(15,6))\r\n",
    "sns.histplot([men,women])\r\n",
    "plt.title('Distribution of height between men and women')\r\n",
    "plt.xlabel('Height')\r\n",
    "plt.legend(['men', 'women'])\r\n",
    "plt.show()"
   ],
   "outputs": [
    {
     "output_type": "display_data",
     "data": {
      "text/plain": [
       "<Figure size 1080x432 with 1 Axes>"
      ],
      "image/png": "[encoded data removed]"
     },
     "metadata": {
      "needs_background": "light"
     }
    }
   ],
   "metadata": {}
  },
  {
   "cell_type": "markdown",
   "source": [
    "### 3. Определите объем необходимой выборки для исследования среднего чека за кофе в случайном городе, если известно, что в этом городе стандартное отклонение = 150, уровень доверия = 95%. Погрешность 50 рублей. "
   ],
   "metadata": {}
  },
  {
   "cell_type": "markdown",
   "source": [
    "<div class=\"alert alert-info\">\n",
    "<b>Задание № 3</b>\n",
    "\n",
    "Определите объем необходимой выборки для исследования среднего чека за кофе в случайном городе если известно, что в этом городе:\n",
    "\n",
    "- стандартное отклонение $\\sigma = 150$;\n",
    "- уровень доверия $\\beta$  = 95%;\n",
    "- Погрешность $\\Delta = 50$ рублей.\n",
    "</div>"
   ],
   "metadata": {}
  },
  {
   "cell_type": "code",
   "execution_count": 6,
   "source": [
    "### Ваш код...\r\n",
    "std = 150\r\n",
    "sem = 50\r\n",
    "Z = round(norm.interval(0.95)[1],2)\r\n",
    "n = round((Z * std / sem) ** 2)\r\n",
    "n"
   ],
   "outputs": [
    {
     "output_type": "execute_result",
     "data": {
      "text/plain": [
       "35"
      ]
     },
     "metadata": {},
     "execution_count": 6
    }
   ],
   "metadata": {}
  },
  {
   "cell_type": "markdown",
   "source": [
    "<div class=\"alert alert-info\">\n",
    "<b>Задание № 4</b>\n",
    "\n",
    "Представьте, что вы хотите разоблачить \"волшебника\" который считает, что умеет предсказывать погоду на завтра, отвечая просто: дождь или солнце. Вы пронаблюдали за ответами \"волшебника\" в течении какого-то периода времени и получили некие результаты (см.ниже).\n",
    "\n",
    "Можно ли сказать, что маг действительно умеет предсказывать погоду? Уровень значимости принять за `0.05` ($\\alpha=0.05$).\n",
    "</div>"
   ],
   "metadata": {}
  },
  {
   "cell_type": "markdown",
   "source": [
    "> **За нулевую гипотезу здесь принимаем, что наш маг не умеет предсказывать погоду, а то что ответы распределены равновероятно и их количество равно между собой.**\n",
    "\n",
    "- **H0 -> true_predict = false_predict**\n",
    "\n",
    "- **H1 -> true_predict != false_predict**"
   ],
   "metadata": {}
  },
  {
   "cell_type": "code",
   "execution_count": 7,
   "source": [
    "import pandas as pd\r\n",
    "observations = pd.DataFrame([[10, 15],[39, 34]],\r\n",
    "                            index=['Дождь','Солнце'],\r\n",
    "                            columns=['Верные ответы волшебника','Неверные ответы'])\r\n",
    "observations"
   ],
   "outputs": [
    {
     "output_type": "execute_result",
     "data": {
      "text/plain": [
       "        Верные ответы волшебника  Неверные ответы\n",
       "Дождь                         10               15\n",
       "Солнце                        39               34"
      ],
      "text/html": [
       "<div>\n",
       "<style scoped>\n",
       "    .dataframe tbody tr th:only-of-type {\n",
       "        vertical-align: middle;\n",
       "    }\n",
       "\n",
       "    .dataframe tbody tr th {\n",
       "        vertical-align: top;\n",
       "    }\n",
       "\n",
       "    .dataframe thead th {\n",
       "        text-align: right;\n",
       "    }\n",
       "</style>\n",
       "<table border=\"1\" class=\"dataframe\">\n",
       "  <thead>\n",
       "    <tr style=\"text-align: right;\">\n",
       "      <th></th>\n",
       "      <th>Верные ответы волшебника</th>\n",
       "      <th>Неверные ответы</th>\n",
       "    </tr>\n",
       "  </thead>\n",
       "  <tbody>\n",
       "    <tr>\n",
       "      <th>Дождь</th>\n",
       "      <td>10</td>\n",
       "      <td>15</td>\n",
       "    </tr>\n",
       "    <tr>\n",
       "      <th>Солнце</th>\n",
       "      <td>39</td>\n",
       "      <td>34</td>\n",
       "    </tr>\n",
       "  </tbody>\n",
       "</table>\n",
       "</div>"
      ]
     },
     "metadata": {},
     "execution_count": 7
    }
   ],
   "metadata": {}
  },
  {
   "cell_type": "code",
   "execution_count": 8,
   "source": [
    "# Точный тест Фишера\r\n",
    "oddsratio, pvalue = stats.fisher_exact(observations)\r\n",
    "pvalue"
   ],
   "outputs": [
    {
     "output_type": "execute_result",
     "data": {
      "text/plain": [
       "0.35417955365927367"
      ]
     },
     "metadata": {},
     "execution_count": 8
    }
   ],
   "metadata": {}
  },
  {
   "cell_type": "code",
   "execution_count": 9,
   "source": [
    "\"\"\"\r\n",
    "Returns\r\n",
    "-------\r\n",
    "chi2 : float\r\n",
    "    The test statistic.\r\n",
    "p : float\r\n",
    "    The p-value of the test\r\n",
    "dof : int\r\n",
    "    Degrees of freedom\r\n",
    "expected : ndarray, same shape as `observed`\r\n",
    "    The expected frequencies, based on the marginal sums of the table.\r\n",
    "\"\"\"\r\n",
    "# Хи^2 / Критерий Пирсона\r\n",
    "chi2, pvalue, dof, expected = stats.chi2_contingency(observations)\r\n",
    "pvalue"
   ],
   "outputs": [
    {
     "output_type": "execute_result",
     "data": {
      "text/plain": [
       "0.35396880166541644"
      ]
     },
     "metadata": {},
     "execution_count": 9
    }
   ],
   "metadata": {}
  },
  {
   "cell_type": "markdown",
   "source": [
    "> **Мы не можем опровергнуть нулевую гипотезу о том, что предсказание ни есть чистая случайность. Т.к p-value превышает уроветь значимости в 0.05**"
   ],
   "metadata": {}
  },
  {
   "cell_type": "markdown",
   "source": [
    "<div class=\"alert alert-info\">\r\n",
    "<b>Задание № 5</b> \r\n",
    "\r\n",
    "Используя функцию mean_confidence_interval(data, confidence), постройте доверительный интервал с уровнем доверия $\\beta = 90\\%$ для выборки:\r\n",
    "\r\n",
    "</div>"
   ],
   "metadata": {}
  },
  {
   "cell_type": "markdown",
   "source": [
    "Использую свой вариант без использования готовой функции. При желании можно обернуть в функцию."
   ],
   "metadata": {}
  },
  {
   "cell_type": "code",
   "execution_count": 10,
   "source": [
    "data = [4,5,8,9,6,7,5,6,7,8,5,6,7,0,9,8,4,6,\r\n",
    "        7,9,8,6,5,7,8,9,6,7,5,8,6,7,9,5,10]\r\n",
    "\r\n",
    "less, greater = stats.t.interval(0.9, len(data) - 1)\r\n",
    "sem = stats.sem(data)\r\n",
    "mean = np.mean(data)\r\n",
    "lower_b, upper_b  = (sem * less) + mean, (sem * greater) + mean\r\n",
    "lower_b, mean, upper_b"
   ],
   "outputs": [
    {
     "output_type": "execute_result",
     "data": {
      "text/plain": [
       "(6.073631100387619, 6.628571428571429, 7.183511753944288)"
      ]
     },
     "metadata": {},
     "execution_count": 10
    }
   ],
   "metadata": {}
  },
  {
   "cell_type": "markdown",
   "source": [
    "<div class=\"alert alert-info\">\n",
    "<b>Задание № 6</b>\n",
    "\n",
    "Принадлежат ли выборки `A` и `B` одному множеству? \n",
    "    \n",
    "- Оцените это с помощью известных вам тестов для проверок статистических гипотез;\n",
    "- Покажите различия визуально.\n",
    "</div>"
   ],
   "metadata": {}
  },
  {
   "cell_type": "code",
   "execution_count": 11,
   "source": [
    "A = [4,5,8,9,6,7,5,6,7,6,8,5,6,7,8,4,\r\n",
    "    6,7,9,8,6,5,7,8,6,7,5,6,8,6,7,5,\r\n",
    "    4,5,8,9,6,7,5,6,7,6,8,5,6,7,8,4,\r\n",
    "    6,7,9,8,6,5,7,8,6,7,5,6,8,6,7,5,\r\n",
    "    4,5,8,9,6,7,5,6,7,6,8,5,6,7,8,4,\r\n",
    "    6,7,9,8,6,5,7,8,6,7,5,6,8,6,7,5,\r\n",
    "    4,5,8,9,6,7,5,6,7,6,8,5,6,7,8,4]\r\n",
    "\r\n",
    "B = [5,6,7,8,4,6,7,2,6,5,7,5,3,5,3,\r\n",
    "    5,3,5,5,8,7,6,4,5,3,5,4,6,4,5,3,\r\n",
    "    2,6,4,3,5,4,3,4,5,4,3,4,5,4,3,4,\r\n",
    "    2,6,4,3,5,4,3,4,5,4,3,4,5,4,3,4,\r\n",
    "    3,4,4,1,2,4,3,2,4,3,2,1,5,3,4,6,\r\n",
    "    3,2,4,5,6,4,3,3,5,3,4,4,4,2,5,3]"
   ],
   "outputs": [],
   "metadata": {}
  },
  {
   "cell_type": "code",
   "execution_count": 12,
   "source": [
    "#Ваш код:\n",
    "aplha = 0.05\n",
    "t_statistic, pvalue = stats.ttest_ind(A,B)\n",
    "if pvalue > alpha:\n",
    "    print(f'Статистически значимых различий между двумя выборками не обнаружено\\npvalue = {pvalue}')\n",
    "else:\n",
    "    print(f'Существует статистически значимые различия. Выборки вероятно не принадлежат одной совокупности\\npvalue = {pvalue}')"
   ],
   "outputs": [
    {
     "output_type": "stream",
     "name": "stdout",
     "text": [
      "Существует статистически значимые различия. Выборки вероятно не принадлежат одной совокупности\n",
      "pvalue = 4.623319592204015e-25\n"
     ]
    }
   ],
   "metadata": {}
  },
  {
   "cell_type": "code",
   "execution_count": 13,
   "source": [
    "sns.histplot([A, B])"
   ],
   "outputs": [
    {
     "output_type": "execute_result",
     "data": {
      "text/plain": [
       "<AxesSubplot:ylabel='Count'>"
      ]
     },
     "metadata": {},
     "execution_count": 13
    },
    {
     "output_type": "display_data",
     "data": {
      "text/plain": [
       "<Figure size 432x288 with 1 Axes>"
      ],
      "image/png": "[encoded data removed]"
     },
     "metadata": {
      "needs_background": "light"
     }
    }
   ],
   "metadata": {}
  },
  {
   "cell_type": "markdown",
   "source": [
    "<div class=\"alert alert-info\">\n",
    "<b>Задание № 7 (задание без подвоха)</b>\n",
    "\n",
    "На примере датасета про жилье в New York City, мы сталкивались с примером, когда переменная имеет не совсем нормальное распределение. \n",
    "\n",
    "- Предположим, Вы сформировали две гипотезы:\n",
    "    - нулевая гипотеза - распределение нормальное;\n",
    "    - альтернативная гипотеза - распределение ненормальное.\n",
    "- допустим, вы применили какой-то тест (сейчас неважно какой), который показал ~~уровень значимости~~  `p-value = 0.03`. Каковы будут ваши выводы? Будем считать что у нас нормальное распределение или все-таки нет?)\n",
    "    \n",
    "</div>"
   ],
   "metadata": {}
  },
  {
   "cell_type": "markdown",
   "source": [
    "<!-- ### Ваши выводы:  -->\n",
    "> **Все будет зависеть от выбраного нами уровня значимости. При уровне значимости = 0.05 мы вынуждены откланить нулевую гипотезу и принять альтернативную, что переменная имеет не нормальное распределение**"
   ],
   "metadata": {}
  },
  {
   "cell_type": "markdown",
   "source": [
    "<div class=\"alert alert-info\">\n",
    "<b>Задание № 8</b>\n",
    "    \n",
    "Первая выборка — это пациенты, которых лечили препаратом `А`.  Вторая выборка — пациенты, которых лечили препаратом `B`.\n",
    "\n",
    "Значения в выборках — это некоторая характеристика эффективности лечения (уровень метаболита в крови, температура через три дня после начала лечения, срок выздоровления, число койко-дней, и т.д.) \n",
    "\n",
    "- Требуется выяснить, имеется ли значимое различие эффективности препаратов `А` и `B`, или различия являются чисто случайными и объясняются «естественной» дисперсией выбранной характеристики?  (`уровень значимости принять за 0.05 (5%)`)\n",
    "\n",
    "- При каком минимальном p-value различия были бы уже значимы? \n",
    "    \n",
    "- Если выборки незначительно отличаются, то продемонстрируйте это визуально\n",
    "</div>"
   ],
   "metadata": {}
  },
  {
   "cell_type": "code",
   "execution_count": 14,
   "source": [
    "np.random.seed(11)\n",
    "A = stats.norm.rvs(scale=15, loc=169, size=300)\n",
    "B = stats.norm.rvs(scale=14, loc=171.4, size=300)"
   ],
   "outputs": [],
   "metadata": {}
  },
  {
   "cell_type": "code",
   "execution_count": 15,
   "source": [
    "alpha = 0.05\n",
    "t_stat, pvalue = stats.ttest_ind(A, B)\n",
    "if alpha < pvalue:\n",
    "    print(f'Статистичесик значимых различий между выборками нет при уровне значимости {alpha}', f'pvalue = {pvalue}', sep='\\n')\n",
    "else:\n",
    "    print(f'Сужествуют статистически значимые различия между выборками A и B при уровне значимости {alpha}', f'pvalue = {pvalue}', sep='\\n')"
   ],
   "outputs": [
    {
     "output_type": "stream",
     "name": "stdout",
     "text": [
      "Статистичесик значимых различий между выборками нет при уровне значимости 0.05\n",
      "pvalue = 0.051284593140469285\n"
     ]
    }
   ],
   "metadata": {}
  },
  {
   "cell_type": "markdown",
   "source": [
    "> **При pvalue < 0.05 различия бы уже считались статистически значимы**"
   ],
   "metadata": {}
  },
  {
   "cell_type": "code",
   "execution_count": 16,
   "source": [
    "sns.histplot([A, B])\n",
    "plt.legend(['A', 'B'])"
   ],
   "outputs": [
    {
     "output_type": "execute_result",
     "data": {
      "text/plain": [
       "<matplotlib.legend.Legend at 0x1e57c5abf10>"
      ]
     },
     "metadata": {},
     "execution_count": 16
    },
    {
     "output_type": "display_data",
     "data": {
      "text/plain": [
       "<Figure size 432x288 with 1 Axes>"
      ],
      "image/png": "[encoded data removed]"
     },
     "metadata": {
      "needs_background": "light"
     }
    }
   ],
   "metadata": {}
  },
  {
   "cell_type": "code",
   "execution_count": null,
   "source": [],
   "outputs": [],
   "metadata": {}
  }
 ],
 "metadata": {
  "kernelspec": {
   "display_name": "Python 3",
   "language": "python",
   "name": "python3"
  },
  "language_info": {
   "codemirror_mode": {
    "name": "ipython",
    "version": 3
   },
   "file_extension": ".py",
   "mimetype": "text/x-python",
   "name": "python",
   "nbconvert_exporter": "python",
   "pygments_lexer": "ipython3",
   "version": "3.8.8"
  },
  "toc": {
   "base_numbering": 1,
   "nav_menu": {},
   "number_sections": true,
   "sideBar": true,
   "skip_h1_title": false,
   "title_cell": "Table of Contents",
   "title_sidebar": "Contents",
   "toc_cell": false,
   "toc_position": {},
   "toc_section_display": true,
   "toc_window_display": false
  }
 },
 "nbformat": 4,
 "nbformat_minor": 4
}