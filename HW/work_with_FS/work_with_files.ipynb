{
 "cells": [
  {
   "cell_type": "markdown",
   "id": "1722ea61",
   "metadata": {},
   "source": [
    "Переведите содержимое файла purchase_log.txt в словарь purchases вида:\n",
    "\n",
    "`{‘1840e0b9d4’: ‘Продукты’, …}`\n",
    "\n",
    "\n",
    "Для каждого user_id в файле visit_log.csv определите третий столбец с категорией покупки\n",
    "(если покупка была, сам файл visit_log.csv изменять не надо).\n",
    "\n",
    "Запишите в файл funnel.csv визиты из файла visit_log.csv, в которых были покупки с указанием категории.\n",
    "\n",
    "\n",
    "Учтите условия на данные:\n",
    "- содержимое purchase_log.txt помещается в оперативную память компьютера\n",
    "- содержимое visit_log.csv - нет; используйте только построчную обработку этого файла"
   ]
  },
  {
   "cell_type": "code",
   "execution_count": 1,
   "id": "96e78320",
   "metadata": {},
   "outputs": [],
   "source": [
    "import json"
   ]
  },
  {
   "cell_type": "code",
   "execution_count": 5,
   "id": "103733ec",
   "metadata": {},
   "outputs": [],
   "source": [
    "fh = open('data/purchase_log.txt', mode='r')\n",
    "purchases = {}\n",
    "for line in fh.readlines():\n",
    "    purchases[json.loads(line)[\"user_id\"]] = json.loads(line)[\"category\"]\n",
    "fh.close()"
   ]
  },
  {
   "cell_type": "code",
   "execution_count": 6,
   "id": "94c0c31c",
   "metadata": {},
   "outputs": [],
   "source": [
    "with open('data/visit_log.csv', 'r') as fh2:\n",
    "    with open('data/funnel.csv', 'w') as f2w:\n",
    "        for index, line in enumerate(fh2):\n",
    "            list_ = line.strip().split(',')\n",
    "            if purchases.get(list_[0]):\n",
    "                f2w.write(str(f\"{list_[0]}, {list_[1]}, {purchases.get(list_[0])}\\n\"))\n",
    "        f2w.close()"
   ]
  },
  {
   "cell_type": "code",
   "execution_count": 7,
   "id": "b3cdba5d",
   "metadata": {},
   "outputs": [],
   "source": [
    "f2w.close()"
   ]
  }
 ],
 "metadata": {
  "kernelspec": {
   "display_name": "Python 3",
   "language": "python",
   "name": "python3"
  },
  "language_info": {
   "codemirror_mode": {
    "name": "ipython",
    "version": 3
   },
   "file_extension": ".py",
   "mimetype": "text/x-python",
   "name": "python",
   "nbconvert_exporter": "python",
   "pygments_lexer": "ipython3",
   "version": "3.8.8"
  }
 },
 "nbformat": 4,
 "nbformat_minor": 5
}
