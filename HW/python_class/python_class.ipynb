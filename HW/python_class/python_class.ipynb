{
 "cells": [
  {
   "cell_type": "markdown",
   "id": "9d605568",
   "metadata": {},
   "source": [
    "## Домашнее задание"
   ]
  },
  {
   "cell_type": "markdown",
   "id": "0755ee0f",
   "metadata": {},
   "source": [
    "### Задание 1\n",
    "Напишите функцию, которая возвращает название валюты (поле ‘Name’) с максимальным значением курса с помощью сервиса https://www.cbr-xml-daily.ru/daily_json.js"
   ]
  },
  {
   "cell_type": "code",
   "execution_count": 8,
   "id": "dc258982",
   "metadata": {},
   "outputs": [],
   "source": [
    "import requests\n",
    "import json"
   ]
  },
  {
   "cell_type": "code",
   "execution_count": 7,
   "id": "41a9100b",
   "metadata": {},
   "outputs": [],
   "source": [
    "# val_list = requests.get('https://www.cbr-xml-daily.ru/daily_json.js').json()['Valute']\n",
    "# val_list"
   ]
  },
  {
   "cell_type": "code",
   "execution_count": 9,
   "id": "e2620526",
   "metadata": {},
   "outputs": [],
   "source": [
    "request_values = requests.get('https://www.cbr-xml-daily.ru/daily_json.js').json()['Valute']\n",
    "def max_rate_value():\n",
    "    max_value = 0\n",
    "    for val in request_values.values():\n",
    "        if max_value < val['Value']:\n",
    "            max_value = val['Value']\n",
    "            max_name = val['Name']\n",
    "    return(max_name, max_value)"
   ]
  },
  {
   "cell_type": "code",
   "execution_count": 10,
   "id": "695e495c",
   "metadata": {},
   "outputs": [
    {
     "data": {
      "text/plain": [
       "('СДР (специальные права заимствования)', 103.322)"
      ]
     },
     "execution_count": 10,
     "metadata": {},
     "output_type": "execute_result"
    }
   ],
   "source": [
    "max_rate_value()"
   ]
  },
  {
   "cell_type": "markdown",
   "id": "d4e613db",
   "metadata": {},
   "source": [
    "### Задание 2\n",
    "Добавьте в класс Rate параметр diff (со значениями True или False), который в случае значения True в методах курсов валют (eur, usd итд) будет возвращать не курс валюты, а изменение по сравнению в прошлым значением. Считайте, self.diff будет принимать значение True только при возврате значения курса. При отображении всей информации о валюте он не используется."
   ]
  },
  {
   "cell_type": "code",
   "execution_count": 34,
   "id": "8079d3cc",
   "metadata": {},
   "outputs": [],
   "source": [
    "# import requests\n",
    "\n",
    "class Rate:\n",
    "    def __init__(self, format_='value', diff=False):\n",
    "        self.format = format_\n",
    "        self.diff = diff\n",
    "    \n",
    "    def exchange_rates(self):\n",
    "        \"\"\"\n",
    "        Возвращает ответ сервиса с информацией о валютах в виде:\n",
    "        \n",
    "        {\n",
    "            'AMD': {\n",
    "                'CharCode': 'AMD',\n",
    "                'ID': 'R01060',\n",
    "                'Name': 'Армянских драмов',\n",
    "                'Nominal': 100,\n",
    "                'NumCode': '051',\n",
    "                'Previous': 14.103,\n",
    "                'Value': 14.0879\n",
    "                },\n",
    "            ...\n",
    "        }\n",
    "        \"\"\"\n",
    "        r = requests.get('https://www.cbr-xml-daily.ru/daily_json.js')\n",
    "        return r.json()['Valute']\n",
    "    \n",
    "    def make_format(self, currency):\n",
    "        \"\"\"\n",
    "        Возвращает информацию о валюте currency в двух вариантах:\n",
    "        - полная информация о валюте при self.format = 'full':\n",
    "        Rate('full').make_format('EUR')\n",
    "        {\n",
    "            'CharCode': 'EUR',\n",
    "            'ID': 'R01239',\n",
    "            'Name': 'Евро',\n",
    "            'Nominal': 1,\n",
    "            'NumCode': '978',\n",
    "            'Previous': 79.6765,\n",
    "            'Value': 79.4966\n",
    "        }\n",
    "        \n",
    "        Rate('value').make_format('EUR')\n",
    "        79.4966\n",
    "        \"\"\"\n",
    "        response = self.exchange_rates()\n",
    "        \n",
    "        if currency in response:\n",
    "            if self.format == 'full':\n",
    "                return response[currency]\n",
    "            \n",
    "            if self.format == 'value':\n",
    "                if not self.diff:\n",
    "                    return response[currency]['Value']\n",
    "                else:\n",
    "                    return response[currency]['Value'] - response[currency]['Previous']\n",
    "                    \n",
    "        return 'Error'\n",
    "    \n",
    "    def eur(self):\n",
    "        \"\"\"Возвращает курс евро на сегодня в формате self.format\"\"\"\n",
    "        return self.make_format('EUR')\n",
    "    \n",
    "    def usd(self):\n",
    "        \"\"\"Возвращает курс доллара на сегодня в формате self.format\"\"\"\n",
    "        return self.make_format('USD')\n",
    "\n",
    "    def AZN(self):\n",
    "        \"\"\"Возвращает курс азербайджанского маната на сегодня в формате self.format\"\"\"\n",
    "        return self.make_format('AZN')"
   ]
  },
  {
   "cell_type": "code",
   "execution_count": 41,
   "id": "bff9401d",
   "metadata": {},
   "outputs": [],
   "source": [
    "A = Rate(diff=True)"
   ]
  },
  {
   "cell_type": "code",
   "execution_count": 40,
   "id": "a6571ac4",
   "metadata": {},
   "outputs": [
    {
     "data": {
      "text/plain": [
       "-0.20080000000000098"
      ]
     },
     "execution_count": 40,
     "metadata": {},
     "output_type": "execute_result"
    }
   ],
   "source": [
    "A.AZN()"
   ]
  },
  {
   "cell_type": "code",
   "execution_count": 39,
   "id": "4255adeb",
   "metadata": {},
   "outputs": [
    {
     "data": {
      "text/plain": [
       "{'ID': 'R01020A',\n",
       " 'NumCode': '944',\n",
       " 'CharCode': 'AZN',\n",
       " 'Nominal': 1,\n",
       " 'Name': 'Азербайджанский манат',\n",
       " 'Value': 42.5697,\n",
       " 'Previous': 42.7705}"
      ]
     },
     "execution_count": 39,
     "metadata": {},
     "output_type": "execute_result"
    }
   ],
   "source": [
    "B = Rate(diff=True, format_ = 'full')\n",
    "B.AZN()"
   ]
  },
  {
   "cell_type": "code",
   "execution_count": 42,
   "id": "621a4d8c",
   "metadata": {},
   "outputs": [],
   "source": [
    "C = Rate(diff=False)"
   ]
  },
  {
   "cell_type": "code",
   "execution_count": 43,
   "id": "b08e50e6",
   "metadata": {},
   "outputs": [
    {
     "data": {
      "text/plain": [
       "42.5697"
      ]
     },
     "execution_count": 43,
     "metadata": {},
     "output_type": "execute_result"
    }
   ],
   "source": [
    "C.AZN()"
   ]
  },
  {
   "cell_type": "markdown",
   "id": "15f0dcf5",
   "metadata": {},
   "source": [
    "### Задание 3\n",
    "Напишите класс Designer, который учитывает количество международных премий. Подсказки в коде занятия в разделе “Домашнее задание задача 3”.\n",
    "\n",
    "Комментарий по классу Designer такой:\n",
    "\n",
    "Напишите класс Designer, который учитывает количество международных премий для дизайнеров\n",
    "(из презентации:\n",
    "- “Повышение на 1 грейд за каждые 7 баллов.\n",
    "- Получение международной премии – это +2 балла”).\n",
    "Считайте, что при выходе на работу сотрудник уже имеет две премии и их количество не меняется со стажем (конечно если хотите это можно вручную менять).\n",
    "\n",
    "Класс Designer пишется по аналогии с классом Developer из материалов занятия. Комментарий про его условия Вика написала выше: “Повышение на 1 грейд за каждые 7 баллов. Получение международной премии – это +2 балла”"
   ]
  },
  {
   "cell_type": "code",
   "execution_count": 86,
   "id": "ecd0e0c8",
   "metadata": {},
   "outputs": [],
   "source": [
    "class Employee:\n",
    "    def __init__(self, name, seniority):\n",
    "        self.name = name\n",
    "        self.seniority = seniority\n",
    "        self.grade = 1\n",
    "    \n",
    "    def grade_up(self):\n",
    "        \"\"\"Повышает уровень сотрудника\"\"\"\n",
    "        self.grade += 1\n",
    "    \n",
    "    def publish_grade(self):\n",
    "        \"\"\"Публикация результатов аккредитации сотрудников\"\"\"\n",
    "        print(self.name, self.grade)\n",
    "    \n",
    "    def check_if_it_is_time_for_upgrade(self):\n",
    "        pass"
   ]
  },
  {
   "cell_type": "code",
   "execution_count": 131,
   "id": "f2cfb685",
   "metadata": {},
   "outputs": [],
   "source": [
    "class Designer(Employee):\n",
    "    def __init__(self, name, seniority, awards = 2, ):\n",
    "#         self.name = name\n",
    "#         self.seniority = seniority\n",
    "#         self.grade = 1\n",
    "        super().__init__(name, seniority)\n",
    "        self.awards = awards\n",
    "        \n",
    "    def set_awards(self, awards):\n",
    "        self.awards = awards\n",
    "    \n",
    "    def recive_int_prize(self):\n",
    "        self.awards += 1\n",
    "        self.seniority += 2\n",
    "#         print(self.seniority % 7 == 0 or self.seniority % 7 == 1 and self.seniority != 1, end='\\t')\n",
    "        if self.seniority % 7 == 0 or self.seniority % 7 == 1 and self.seniority != 1:\n",
    "            self.grade_up()\n",
    "        return self.publish_grade()\n",
    "            \n",
    "    def check_if_it_is_time_for_upgrade(self):\n",
    "    # для каждой аккредитации увеличиваем счетчик на 1\n",
    "    # пока считаем, что все разработчики проходят аккредитацию\n",
    "        self.seniority += 1\n",
    "\n",
    "        # условие повышения сотрудника из презентации\n",
    "        if self.seniority % 7 == 0:\n",
    "            self.grade_up()\n",
    "        # публикация результатов\n",
    "        return self.publish_grade()"
   ]
  },
  {
   "cell_type": "code",
   "execution_count": 157,
   "id": "3de69355",
   "metadata": {},
   "outputs": [],
   "source": [
    "sam = Designer(\"Sam\", 0)"
   ]
  },
  {
   "cell_type": "code",
   "execution_count": 158,
   "id": "2d43e97b",
   "metadata": {},
   "outputs": [
    {
     "name": "stdout",
     "output_type": "stream",
     "text": [
      "i\tgrade\tself.seniority\n",
      "0\tSam 1\n",
      "sam.seniority = 1\n",
      "1\tSam 1\n",
      "sam.seniority = 2\n",
      "2\tSam 1\n",
      "sam.seniority = 3\n",
      "3\tSam 1\n",
      "sam.seniority = 4\n",
      "4\tSam 1\n",
      "sam.seniority = 5\n",
      "5\tSam 1\n",
      "sam.seniority = 6\n",
      "6\tSam 2\n",
      "sam.seniority = 7\n",
      "7\tSam 2\n",
      "sam.seniority = 8\n",
      "8\tSam 2\n",
      "sam.seniority = 9\n",
      "9\tSam 2\n",
      "sam.seniority = 10\n",
      "10\tSam 2\n",
      "sam.seniority = 11\n",
      "11\tSam 2\n",
      "sam.seniority = 12\n",
      "12\tSam 2\n",
      "sam.seniority = 13\n",
      "13\tSam 3\n",
      "sam.seniority = 14\n",
      "14\tSam 3\n",
      "sam.seniority = 15\n",
      "15\tSam 3\n",
      "sam.seniority = 16\n",
      "16\tSam 3\n",
      "sam.seniority = 17\n",
      "17\tSam 3\n",
      "sam.seniority = 18\n",
      "18\tSam 3\n",
      "sam.seniority = 19\n",
      "19\tSam 3\n",
      "sam.seniority = 20\n",
      "20\tSam 4\n",
      "sam.seniority = 21\n",
      "21\tSam 4\n",
      "sam.seniority = 22\n",
      "22\tSam 4\n",
      "sam.seniority = 23\n",
      "23\tSam 4\n",
      "sam.seniority = 24\n"
     ]
    }
   ],
   "source": [
    "print(\"i\\tgrade\\tself.seniority\")\n",
    "for i in range(24):\n",
    "    print(i, end='\\t')\n",
    "    sam.check_if_it_is_time_for_upgrade()\n",
    "    print(f\"sam.seniority = {sam.seniority}\")\n",
    "#     sam.recive_int_prize()"
   ]
  },
  {
   "cell_type": "code",
   "execution_count": 159,
   "id": "b692e581",
   "metadata": {},
   "outputs": [
    {
     "name": "stdout",
     "output_type": "stream",
     "text": [
      "i\tgrade\tself.seniority\n",
      "0\tSam 4\n",
      "sam.seniority = 26\n",
      "1\tSam 5\n",
      "sam.seniority = 28\n",
      "2\tSam 5\n",
      "sam.seniority = 30\n",
      "3\tSam 5\n",
      "sam.seniority = 32\n",
      "4\tSam 5\n",
      "sam.seniority = 34\n",
      "5\tSam 6\n",
      "sam.seniority = 36\n",
      "6\tSam 6\n",
      "sam.seniority = 38\n",
      "7\tSam 6\n",
      "sam.seniority = 40\n",
      "8\tSam 7\n",
      "sam.seniority = 42\n",
      "9\tSam 7\n",
      "sam.seniority = 44\n",
      "10\tSam 7\n",
      "sam.seniority = 46\n",
      "11\tSam 7\n",
      "sam.seniority = 48\n",
      "12\tSam 8\n",
      "sam.seniority = 50\n",
      "13\tSam 8\n",
      "sam.seniority = 52\n",
      "14\tSam 8\n",
      "sam.seniority = 54\n"
     ]
    }
   ],
   "source": [
    "print(\"i\\tgrade\\tself.seniority\")\n",
    "for i in range(15):\n",
    "    print(i, end='\\t')\n",
    "    sam.recive_int_prize()\n",
    "    print(f\"sam.seniority = {sam.seniority}\")\n",
    "#     sam.recive_int_prize()"
   ]
  },
  {
   "cell_type": "code",
   "execution_count": 161,
   "id": "5971df23",
   "metadata": {},
   "outputs": [
    {
     "data": {
      "text/plain": [
       "17"
      ]
     },
     "execution_count": 161,
     "metadata": {},
     "output_type": "execute_result"
    }
   ],
   "source": [
    "sam.awards"
   ]
  },
  {
   "cell_type": "code",
   "execution_count": null,
   "id": "bad81d78",
   "metadata": {},
   "outputs": [],
   "source": []
  }
 ],
 "metadata": {
  "kernelspec": {
   "display_name": "Python 3",
   "language": "python",
   "name": "python3"
  },
  "language_info": {
   "codemirror_mode": {
    "name": "ipython",
    "version": 3
   },
   "file_extension": ".py",
   "mimetype": "text/x-python",
   "name": "python",
   "nbconvert_exporter": "python",
   "pygments_lexer": "ipython3",
   "version": "3.8.8"
  }
 },
 "nbformat": 4,
 "nbformat_minor": 5
}
