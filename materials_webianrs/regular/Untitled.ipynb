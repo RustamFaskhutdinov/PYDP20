{
 "cells": [
  {
   "cell_type": "code",
   "execution_count": 3,
   "id": "e85f1b81",
   "metadata": {},
   "outputs": [],
   "source": [
    "import re"
   ]
  },
  {
   "cell_type": "code",
   "execution_count": 9,
   "id": "ca562297",
   "metadata": {},
   "outputs": [],
   "source": [
    "string = 'ofdhjofdih dflhdlfhj 1st september 2019 07:25  rtlkhj rtlkhy lft rtljlrtj'"
   ]
  },
  {
   "cell_type": "code",
   "execution_count": 22,
   "id": "43e07a0f",
   "metadata": {},
   "outputs": [
    {
     "data": {
      "text/plain": [
       "['1st september 2019 07:25']"
      ]
     },
     "execution_count": 22,
     "metadata": {},
     "output_type": "execute_result"
    }
   ],
   "source": [
    "re.findall(r'\\d{1,2}\\w+\\s\\w+\\s\\d{4}\\s\\d{2}:\\d{2}', string)"
   ]
  },
  {
   "cell_type": "code",
   "execution_count": null,
   "id": "84869ae8",
   "metadata": {},
   "outputs": [],
   "source": []
  },
  {
   "cell_type": "code",
   "execution_count": null,
   "id": "1f961dd2",
   "metadata": {},
   "outputs": [],
   "source": []
  }
 ],
 "metadata": {
  "kernelspec": {
   "display_name": "Python 3",
   "language": "python",
   "name": "python3"
  },
  "language_info": {
   "codemirror_mode": {
    "name": "ipython",
    "version": 3
   },
   "file_extension": ".py",
   "mimetype": "text/x-python",
   "name": "python",
   "nbconvert_exporter": "python",
   "pygments_lexer": "ipython3",
   "version": "3.8.8"
  }
 },
 "nbformat": 4,
 "nbformat_minor": 5
}
